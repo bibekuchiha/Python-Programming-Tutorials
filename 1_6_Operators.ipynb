{
  "nbformat": 4,
  "nbformat_minor": 0,
  "metadata": {
    "kernelspec": {
      "display_name": "Python 2",
      "language": "python",
      "name": "python2"
    },
    "language_info": {
      "codemirror_mode": {
        "name": "ipython",
        "version": 2
      },
      "file_extension": ".py",
      "mimetype": "text/x-python",
      "name": "python",
      "nbconvert_exporter": "python",
      "pygments_lexer": "ipython2",
      "version": "2.7.10"
    },
    "colab": {
      "name": "1.6.Operators.ipynb",
      "provenance": [],
      "include_colab_link": true
    }
  },
  "cells": [
    {
      "cell_type": "markdown",
      "metadata": {
        "id": "view-in-github",
        "colab_type": "text"
      },
      "source": [
        "<a href=\"https://colab.research.google.com/github/bibekuchiha/Python-for-data-science--Introduction/blob/master/1_6_Operators.ipynb\" target=\"_parent\"><img src=\"https://colab.research.google.com/assets/colab-badge.svg\" alt=\"Open In Colab\"/></a>"
      ]
    },
    {
      "cell_type": "markdown",
      "metadata": {
        "id": "e2QyiCG1Qcao",
        "colab_type": "text"
      },
      "source": [
        "# Operators"
      ]
    },
    {
      "cell_type": "markdown",
      "metadata": {
        "id": "6UdKgIJ1Qcap",
        "colab_type": "text"
      },
      "source": [
        "Operators are special symbols in Python that carry out arithmetic or logical computation. The value that the operator operates on is called the operand."
      ]
    },
    {
      "cell_type": "markdown",
      "metadata": {
        "id": "y4DofATKQcap",
        "colab_type": "text"
      },
      "source": [
        "# Operator Types"
      ]
    },
    {
      "cell_type": "markdown",
      "metadata": {
        "id": "M7NaGzz0Qcaq",
        "colab_type": "text"
      },
      "source": [
        "1. Arithmetic operators\n",
        "    \n",
        "2. Comparison (Relational) operators\n",
        "\n",
        "3. Logical (Boolean) operators\n",
        "\n",
        "4. Bitwise operators\n",
        "\n",
        "5. Assignment operators\n",
        "\n",
        "6. Special operators"
      ]
    },
    {
      "cell_type": "markdown",
      "metadata": {
        "id": "cPgXNeYgQcar",
        "colab_type": "text"
      },
      "source": [
        "# Arithmetic Operators"
      ]
    },
    {
      "cell_type": "markdown",
      "metadata": {
        "id": "NGQznFuwQcas",
        "colab_type": "text"
      },
      "source": [
        "Arithmetic operators are used to perform mathematical operations like addition, subtraction, multiplication etc."
      ]
    },
    {
      "cell_type": "markdown",
      "metadata": {
        "id": "KRuINEt2Qcat",
        "colab_type": "text"
      },
      "source": [
        "    + , -, *, /, %, //, **  are arithmetic operators"
      ]
    },
    {
      "cell_type": "markdown",
      "metadata": {
        "id": "Ek_Hfq_cQcau",
        "colab_type": "text"
      },
      "source": [
        "Example:"
      ]
    },
    {
      "cell_type": "code",
      "metadata": {
        "id": "IYoU7cfpQcav",
        "colab_type": "code",
        "outputId": "d345af5f-6934-48d8-da64-a6b4b72ca3cb",
        "colab": {}
      },
      "source": [
        "x, y = 10, 20\n",
        "\n",
        "#addition\n",
        "print(x + y)\n",
        "\n",
        "#subtraction(-)\n",
        "\n",
        "#multiplication(*)\n",
        "\n",
        "#division(/)\n",
        "\n",
        "#modulo division (%)\n",
        "\n",
        "#Floor Division (//)\n",
        "\n",
        "#Exponent (**)"
      ],
      "execution_count": 0,
      "outputs": [
        {
          "output_type": "stream",
          "text": [
            "30\n"
          ],
          "name": "stdout"
        }
      ]
    },
    {
      "cell_type": "markdown",
      "metadata": {
        "id": "8ZzPjTwfQcaz",
        "colab_type": "text"
      },
      "source": [
        "# Comparision Operators"
      ]
    },
    {
      "cell_type": "markdown",
      "metadata": {
        "id": "1bXULAfgQca0",
        "colab_type": "text"
      },
      "source": [
        "Comparison operators are used to compare values. It either returns True or False according to the condition."
      ]
    },
    {
      "cell_type": "markdown",
      "metadata": {
        "id": "0jbawjPeQca2",
        "colab_type": "text"
      },
      "source": [
        "    >, <, ==, !=, >=, <= are comparision operators"
      ]
    },
    {
      "cell_type": "code",
      "metadata": {
        "id": "ZVMTIby3Qca2",
        "colab_type": "code",
        "outputId": "f1c64998-6204-441c-b755-d5daeedc227c",
        "colab": {}
      },
      "source": [
        "a, b = 10, 20         \n",
        "\n",
        "print(a < b)  #check a is less than b\n",
        "\n",
        "#check a is greater than b\n",
        "\n",
        "#check a is equal to b\n",
        "\n",
        "#check a is not equal to b (!=)\n",
        "\n",
        "#check a greater than or equal to b\n",
        "\n",
        "#check a less than or equal to b\n"
      ],
      "execution_count": 0,
      "outputs": [
        {
          "output_type": "stream",
          "text": [
            "True\n"
          ],
          "name": "stdout"
        }
      ]
    },
    {
      "cell_type": "markdown",
      "metadata": {
        "id": "Pyxya4lzQca6",
        "colab_type": "text"
      },
      "source": [
        "# Logical Operators"
      ]
    },
    {
      "cell_type": "markdown",
      "metadata": {
        "id": "S69MT-UPQca7",
        "colab_type": "text"
      },
      "source": [
        "Logical operators are  **and, or, not** operators."
      ]
    },
    {
      "cell_type": "code",
      "metadata": {
        "id": "l4z69QT5Qca8",
        "colab_type": "code",
        "outputId": "f68d8f24-745b-4b22-cf70-762534fac725",
        "colab": {}
      },
      "source": [
        "a, b = True, False\n",
        "\n",
        "#print a and b\n",
        "print(a and b)\n",
        "\n",
        "#print a or b\n",
        "\n",
        "#print not b\n"
      ],
      "execution_count": 0,
      "outputs": [
        {
          "output_type": "stream",
          "text": [
            "False\n"
          ],
          "name": "stdout"
        }
      ]
    },
    {
      "cell_type": "markdown",
      "metadata": {
        "id": "oIidGYvJQca_",
        "colab_type": "text"
      },
      "source": [
        "# Bitwise operators"
      ]
    },
    {
      "cell_type": "markdown",
      "metadata": {
        "id": "v3CtlXN7QcbA",
        "colab_type": "text"
      },
      "source": [
        "Bitwise operators act on operands as if they were string of binary digits. It operates bit by bit"
      ]
    },
    {
      "cell_type": "markdown",
      "metadata": {
        "id": "E6v6N9yNQcbB",
        "colab_type": "text"
      },
      "source": [
        "    &,  |,  ~,  ^,  >>,  << are Bitwise operators"
      ]
    },
    {
      "cell_type": "code",
      "metadata": {
        "id": "uSLCFBiHQcbB",
        "colab_type": "code",
        "outputId": "913fc4ff-cb93-4dc8-c616-0e88fae93dc1",
        "colab": {}
      },
      "source": [
        "a, b = 10, 4\n",
        "\n",
        "#Bitwise AND\n",
        "print(a & b)\n",
        "\n",
        "#Bitwise OR\n",
        "\n",
        "\n",
        "#Bitwise NOT\n",
        "\n",
        "\n",
        "#Bitwise XOR\n",
        "\n",
        "\n",
        "#Bitwise rightshift\n",
        "\n",
        "\n",
        "#Bitwise Leftshift\n"
      ],
      "execution_count": 0,
      "outputs": [
        {
          "output_type": "stream",
          "text": [
            "0\n"
          ],
          "name": "stdout"
        }
      ]
    },
    {
      "cell_type": "markdown",
      "metadata": {
        "id": "kUcpDj3NQcbF",
        "colab_type": "text"
      },
      "source": [
        "# Assignment operators"
      ]
    },
    {
      "cell_type": "markdown",
      "metadata": {
        "id": "yDO6zb8MQcbG",
        "colab_type": "text"
      },
      "source": [
        "Assignment operators are used in Python to assign values to variables.\n",
        "\n",
        "a = 5 is a simple assignment operator that assigns the value 5 on the right to the variable a on the left."
      ]
    },
    {
      "cell_type": "markdown",
      "metadata": {
        "id": "fs04GZkMQcbG",
        "colab_type": "text"
      },
      "source": [
        "    =,  +=,  -=,  *=,  /=,  %=,  //=,  **=, &=,  |=,  ^=,  >>=,  <<= are Assignment operators"
      ]
    },
    {
      "cell_type": "code",
      "metadata": {
        "id": "P9slZ0H0QcbH",
        "colab_type": "code",
        "outputId": "eb58a3e4-94c7-4fcd-8aaa-8ad80531f65c",
        "colab": {}
      },
      "source": [
        "a = 10\n",
        "\n",
        "a += 10         #add AND\n",
        "print(a)\n",
        "\n",
        "#subtract AND (-=)\n",
        "\n",
        "#Multiply AND (*=)\n",
        "\n",
        "#Divide AND (/=)\n",
        "\n",
        "#Modulus AND (%=)\n",
        "\n",
        "#Floor Division (//=)\n",
        "\n",
        "#Exponent AND (**=)\n"
      ],
      "execution_count": 0,
      "outputs": [
        {
          "output_type": "stream",
          "text": [
            "20\n"
          ],
          "name": "stdout"
        }
      ]
    },
    {
      "cell_type": "markdown",
      "metadata": {
        "id": "JhyxXB9OQcbL",
        "colab_type": "text"
      },
      "source": [
        "# Special Operators"
      ]
    },
    {
      "cell_type": "markdown",
      "metadata": {
        "id": "5_E3NgCyQcbL",
        "colab_type": "text"
      },
      "source": [
        "# Identity Operators"
      ]
    },
    {
      "cell_type": "markdown",
      "metadata": {
        "id": "Bn1GSCTeQcbM",
        "colab_type": "text"
      },
      "source": [
        "**is and is not** are the identity operators in Python. \n",
        "\n",
        "They are used to check if two values (or variables) are located on the same part of the memory."
      ]
    },
    {
      "cell_type": "code",
      "metadata": {
        "id": "AJE3tcCaQcbN",
        "colab_type": "code",
        "outputId": "17c6a7d2-5059-47f8-a6a7-34e9aa1c9ad9",
        "colab": {}
      },
      "source": [
        "a = 5\n",
        "b = 5\n",
        "print(a is b)    #5 is object created once both a and b points to same object\n",
        "\n",
        "#check is not"
      ],
      "execution_count": 0,
      "outputs": [
        {
          "output_type": "stream",
          "text": [
            "True\n"
          ],
          "name": "stdout"
        }
      ]
    },
    {
      "cell_type": "code",
      "metadata": {
        "id": "DG5DNVAvQcbQ",
        "colab_type": "code",
        "outputId": "29a53b9c-e5a2-4eeb-b63b-4b1333ddbd2a",
        "colab": {}
      },
      "source": [
        "l1 = [1, 2, 3]\n",
        "l2 = [1, 2, 3]\n",
        "print(l1 is l2)"
      ],
      "execution_count": 0,
      "outputs": [
        {
          "output_type": "stream",
          "text": [
            "False\n"
          ],
          "name": "stdout"
        }
      ]
    },
    {
      "cell_type": "code",
      "metadata": {
        "id": "np7sMUkTQcbU",
        "colab_type": "code",
        "outputId": "bd95f0b8-8480-495e-b4ce-2a6ff3be03e6",
        "colab": {}
      },
      "source": [
        "s1 = \"Satish\"\n",
        "s2 = \"Satish\"\n",
        "print(s1 is not s2)"
      ],
      "execution_count": 0,
      "outputs": [
        {
          "output_type": "stream",
          "text": [
            "False\n"
          ],
          "name": "stdout"
        }
      ]
    },
    {
      "cell_type": "markdown",
      "metadata": {
        "id": "W_4Tx5_oQcbY",
        "colab_type": "text"
      },
      "source": [
        "# MemberShip Operators"
      ]
    },
    {
      "cell_type": "markdown",
      "metadata": {
        "id": "CJgCYs5HQcbZ",
        "colab_type": "text"
      },
      "source": [
        "**in and not in** are the membership operators in Python. \n",
        "    \n",
        "They are used to test whether a value or variable is found in a sequence (string, list, tuple, set and   dictionary)."
      ]
    },
    {
      "cell_type": "code",
      "metadata": {
        "id": "BNzYwNlaQcbb",
        "colab_type": "code",
        "outputId": "1afa6fef-b230-4c59-83f0-f356e2086390",
        "colab": {}
      },
      "source": [
        "lst = [1, 2, 3, 4]\n",
        "print(1 in lst)       #check 1 is present in a given list or not\n",
        "\n",
        "#check 5 is present in a given list\n"
      ],
      "execution_count": 0,
      "outputs": [
        {
          "output_type": "stream",
          "text": [
            "True\n"
          ],
          "name": "stdout"
        }
      ]
    },
    {
      "cell_type": "code",
      "metadata": {
        "id": "zEFwWf_-Qcbe",
        "colab_type": "code",
        "outputId": "19372f0f-3406-4904-ab85-6a42c7ce4199",
        "colab": {}
      },
      "source": [
        "d = {1: \"a\", 2: \"b\"}\n",
        "print(1 in d)"
      ],
      "execution_count": 0,
      "outputs": [
        {
          "output_type": "stream",
          "text": [
            "True\n"
          ],
          "name": "stdout"
        }
      ]
    }
  ]
}