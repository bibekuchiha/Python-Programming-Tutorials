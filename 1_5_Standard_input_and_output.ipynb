{
  "nbformat": 4,
  "nbformat_minor": 0,
  "metadata": {
    "kernelspec": {
      "display_name": "Python 2",
      "language": "python",
      "name": "python2"
    },
    "language_info": {
      "codemirror_mode": {
        "name": "ipython",
        "version": 2
      },
      "file_extension": ".py",
      "mimetype": "text/x-python",
      "name": "python",
      "nbconvert_exporter": "python",
      "pygments_lexer": "ipython2",
      "version": "2.7.10"
    },
    "colab": {
      "name": "1.5.Standard input and output.ipynb",
      "provenance": [],
      "include_colab_link": true
    }
  },
  "cells": [
    {
      "cell_type": "markdown",
      "metadata": {
        "id": "view-in-github",
        "colab_type": "text"
      },
      "source": [
        "<a href=\"https://colab.research.google.com/github/bibekuchiha/Python-for-data-science--Introduction/blob/master/1_5_Standard_input_and_output.ipynb\" target=\"_parent\"><img src=\"https://colab.research.google.com/assets/colab-badge.svg\" alt=\"Open In Colab\"/></a>"
      ]
    },
    {
      "cell_type": "markdown",
      "metadata": {
        "id": "QEyZz4Fu1mUE",
        "colab_type": "text"
      },
      "source": [
        "# Python Input and Output"
      ]
    },
    {
      "cell_type": "markdown",
      "metadata": {
        "id": "JsEBASrl1mUF",
        "colab_type": "text"
      },
      "source": [
        "# Python Output"
      ]
    },
    {
      "cell_type": "markdown",
      "metadata": {
        "id": "slqH9P9L1mUG",
        "colab_type": "text"
      },
      "source": [
        "We use the print() function to output data to the standard output device"
      ]
    },
    {
      "cell_type": "code",
      "metadata": {
        "id": "Y5CCElou1mUH",
        "colab_type": "code",
        "outputId": "be92f799-3987-4fc7-d2ad-bd3ea02b19a6",
        "colab": {
          "base_uri": "https://localhost:8080/",
          "height": 34
        }
      },
      "source": [
        "print(\"Hello World\")"
      ],
      "execution_count": 1,
      "outputs": [
        {
          "output_type": "stream",
          "text": [
            "Hello World\n"
          ],
          "name": "stdout"
        }
      ]
    },
    {
      "cell_type": "code",
      "metadata": {
        "id": "Cp3xZDbh1mUM",
        "colab_type": "code",
        "outputId": "89e16d23-781b-4722-aed4-4f4fa41d1a4c",
        "colab": {
          "base_uri": "https://localhost:8080/",
          "height": 51
        }
      },
      "source": [
        "a = 10\n",
        "print(\"The value of a is\", a) #python 3\n",
        "print \"The value of a is \" + str(a)"
      ],
      "execution_count": 3,
      "outputs": [
        {
          "output_type": "stream",
          "text": [
            "('The value of a is', 10)\n",
            "The value of a is 10\n"
          ],
          "name": "stdout"
        }
      ]
    },
    {
      "cell_type": "markdown",
      "metadata": {
        "id": "ccF_l2-Z1mUQ",
        "colab_type": "text"
      },
      "source": [
        "# Output Formatting"
      ]
    },
    {
      "cell_type": "code",
      "metadata": {
        "id": "BC56kTEZ1mUQ",
        "colab_type": "code",
        "outputId": "787e4844-9827-4c6e-bbf9-b75688aa5946",
        "colab": {
          "base_uri": "https://localhost:8080/",
          "height": 34
        }
      },
      "source": [
        "a = 10; b = 20 #multiple statements in single line.\n",
        "\n",
        "print(\"The value of a is {} and b is {}\".format(a, b))    #default"
      ],
      "execution_count": 4,
      "outputs": [
        {
          "output_type": "stream",
          "text": [
            "The value of a is 10 and b is 20\n"
          ],
          "name": "stdout"
        }
      ]
    },
    {
      "cell_type": "code",
      "metadata": {
        "id": "6lOLc0_E1mUU",
        "colab_type": "code",
        "outputId": "5663bf01-7aa2-410c-836a-89a423692079",
        "colab": {}
      },
      "source": [
        "a = 10; b = 20  #multiple statements in single line\n",
        "\n",
        "print(\"The value of b is {1} and a is {0}\".format(a, b)) #specify position of arguments"
      ],
      "execution_count": 0,
      "outputs": [
        {
          "output_type": "stream",
          "text": [
            "The value of b is 20 and a is 10\n"
          ],
          "name": "stdout"
        }
      ]
    },
    {
      "cell_type": "code",
      "metadata": {
        "id": "GkmFy1BL1mUa",
        "colab_type": "code",
        "outputId": "55905341-2666-4d0b-ebc9-0657a7022cc3",
        "colab": {}
      },
      "source": [
        "#we can use keyword arguments to format the string\n",
        "print(\"Hello {name}, {greeting}\".format(name=\"satish\", greeting=\"Good Morning\"))"
      ],
      "execution_count": 0,
      "outputs": [
        {
          "output_type": "stream",
          "text": [
            "Hello satish, Good Morning\n"
          ],
          "name": "stdout"
        }
      ]
    },
    {
      "cell_type": "code",
      "metadata": {
        "id": "22WifPju1mUe",
        "colab_type": "code",
        "outputId": "e47b5414-1fc7-4956-963f-bcd4d4277d16",
        "colab": {}
      },
      "source": [
        "#we can combine positional arguments with keyword arguments\n",
        "print('The story of {0}, {1}, and {other}'.format('Bill', 'Manfred',\n",
        "                                                       other='Georg'))"
      ],
      "execution_count": 0,
      "outputs": [
        {
          "output_type": "stream",
          "text": [
            "The story of Bill, Manfred, and Georg\n"
          ],
          "name": "stdout"
        }
      ]
    },
    {
      "cell_type": "markdown",
      "metadata": {
        "id": "d4EZS4Mr1mUi",
        "colab_type": "text"
      },
      "source": [
        "# Python Input"
      ]
    },
    {
      "cell_type": "markdown",
      "metadata": {
        "id": "VgKThN8O1mUj",
        "colab_type": "text"
      },
      "source": [
        "want to take the input from the user. In Python, we have the input() function to allow this. "
      ]
    },
    {
      "cell_type": "code",
      "metadata": {
        "id": "zPqN1PyF1mUk",
        "colab_type": "code",
        "outputId": "5cddf532-cd80-4eae-ab36-82620df7d452",
        "colab": {
          "base_uri": "https://localhost:8080/",
          "height": 51
        }
      },
      "source": [
        "num = input(\"Enter a number: \")\n",
        "print(num)"
      ],
      "execution_count": 8,
      "outputs": [
        {
          "output_type": "stream",
          "text": [
            "Enter a number: 122\n",
            "122\n"
          ],
          "name": "stdout"
        }
      ]
    },
    {
      "cell_type": "code",
      "metadata": {
        "id": "w2KQoIm72EjQ",
        "colab_type": "code",
        "colab": {}
      },
      "source": [
        "\n"
      ],
      "execution_count": 0,
      "outputs": []
    }
  ]
}